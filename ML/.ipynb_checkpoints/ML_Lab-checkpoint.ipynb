{
 "cells": [
  {
   "cell_type": "code",
   "execution_count": 1,
   "id": "ac2a75bf",
   "metadata": {},
   "outputs": [
    {
     "name": "stdout",
     "output_type": "stream",
     "text": [
      "    Unnamed: 0  Roll No  Subject 1  Subject 2  Subject 3  Total Comment Branch\n",
      "0          NaN        1       46.0       43.0       43.0  132.0    Pass    Ece\n",
      "1          NaN        2       45.0       34.0       45.0  124.0    Pass    Avi\n",
      "2          NaN        3       46.0       32.0       46.0  124.0    Pass    Ece\n",
      "3          NaN        4        7.0       45.0       45.0   86.0    Fail    Ece\n",
      "4          NaN        5       46.0       37.0       43.0  126.0    Pass    Ece\n",
      "5          NaN        6       30.0        NaN        NaN  128.0    Pass    Avi\n",
      "6          NaN        7        NaN       30.0       41.0  114.0    Fail    Ece\n",
      "7          NaN        8       45.0       32.0       47.0  124.0    Pass    Avi\n",
      "8          NaN        0       34.0       36.0       42.0  112.0    Pass    Ece\n",
      "9          NaN       10       12.0       46.0        NaN   58.0    Fail    Avi\n",
      "10         NaN       11       45.0        NaN       23.0  102.0    Pass    Avi\n",
      "11         NaN       12        NaN        5.0       24.0   36.0    Fail    Ece\n",
      "12         NaN       13       48.0       45.0       25.0  118.0    Pass    Ece\n",
      "13         NaN       14       42.0       45.0       26.0    NaN    Fail    Ece\n",
      "14         NaN       15       41.0       44.0        NaN  112.0    Pass    Ece\n",
      "15         NaN       16        3.0       12.0        8.0   23.0    Fail    Avi\n",
      "16         NaN       17       34.0       32.0       20.0   96.0    Fail    Avi\n",
      "17         NaN       18       45.0        NaN       30.0    NaN    Fail    Ece\n",
      "18         NaN       19        NaN       41.0        NaN  128.0    Pass    Ece\n",
      "19         NaN       20       47.0       32.0       32.0  111.0    Pass    Ece\n",
      "[ 8.  7.  8.  1.  8.  3. 11.  7.  4.  2.  7. 11. 10.  6.  5.  0.  4.  7.\n",
      " 11.  9.]\n"
     ]
    }
   ],
   "source": [
    "import pandas as pd\n",
    "from sklearn.impute import SimpleImputer\n",
    "import numpy as np\n",
    "\n",
    "data=pd.read_csv(\"D:\\Programs & Sketchs\\DATASET\\ML_Lab.csv\")\n",
    "df=pd.DataFrame(data)\n",
    "print(df)\n",
    "a=df[[\"Subject 1\",\"Subject 2\",\"Subject 3\"]].values\n",
    "imputer= SimpleImputer(missing_values=np.NaN,strategy=\"mean\")\n",
    "c=imputer.fit(a[:1:3])\n",
    "\n",
    "from sklearn.preprocessing import LabelEncoder\n",
    "labelencoder_a=LabelEncoder()\n",
    "a[:,0]=labelencoder_a.fit_transform(a[:,0])\n",
    "print(a[:,0])"
   ]
  },
  {
   "cell_type": "code",
   "execution_count": 3,
   "id": "9cca0389",
   "metadata": {},
   "outputs": [
    {
     "name": "stdout",
     "output_type": "stream",
     "text": [
      "    Unnamed: 0  Roll No  Subject 1  Subject 2  Subject 3  Total Comment Branch\n",
      "0          NaN        1       46.0       43.0       43.0  132.0    Pass    Ece\n",
      "1          NaN        2       45.0       34.0       45.0  124.0    Pass    Avi\n",
      "2          NaN        3       46.0       32.0       46.0  124.0    Pass    Ece\n",
      "3          NaN        4        7.0       45.0       45.0   86.0    Fail    Ece\n",
      "4          NaN        5       46.0       37.0       43.0  126.0    Pass    Ece\n",
      "5          NaN        6       30.0        NaN        NaN  128.0    Pass    Avi\n",
      "6          NaN        7        NaN       30.0       41.0  114.0    Fail    Ece\n",
      "7          NaN        8       45.0       32.0       47.0  124.0    Pass    Avi\n",
      "8          NaN        0       34.0       36.0       42.0  112.0    Pass    Ece\n",
      "9          NaN       10       12.0       46.0        NaN   58.0    Fail    Avi\n",
      "10         NaN       11       45.0        NaN       23.0  102.0    Pass    Avi\n",
      "11         NaN       12        NaN        5.0       24.0   36.0    Fail    Ece\n",
      "12         NaN       13       48.0       45.0       25.0  118.0    Pass    Ece\n",
      "13         NaN       14       42.0       45.0       26.0    NaN    Fail    Ece\n",
      "14         NaN       15       41.0       44.0        NaN  112.0    Pass    Ece\n",
      "15         NaN       16        3.0       12.0        8.0   23.0    Fail    Avi\n",
      "16         NaN       17       34.0       32.0       20.0   96.0    Fail    Avi\n",
      "17         NaN       18       45.0        NaN       30.0    NaN    Fail    Ece\n",
      "18         NaN       19        NaN       41.0        NaN  128.0    Pass    Ece\n",
      "19         NaN       20       47.0       32.0       32.0  111.0    Pass    Ece\n"
     ]
    },
    {
     "data": {
      "text/plain": [
       "array([[0., 1.],\n",
       "       [1., 0.],\n",
       "       [0., 1.],\n",
       "       [0., 1.],\n",
       "       [0., 1.],\n",
       "       [1., 0.],\n",
       "       [0., 1.],\n",
       "       [1., 0.],\n",
       "       [0., 1.],\n",
       "       [1., 0.],\n",
       "       [1., 0.],\n",
       "       [0., 1.],\n",
       "       [0., 1.],\n",
       "       [0., 1.],\n",
       "       [0., 1.],\n",
       "       [1., 0.],\n",
       "       [1., 0.],\n",
       "       [0., 1.],\n",
       "       [0., 1.],\n",
       "       [0., 1.]])"
      ]
     },
     "execution_count": 3,
     "metadata": {},
     "output_type": "execute_result"
    }
   ],
   "source": [
    "#One hot encoding\n",
    "import pandas as pd\n",
    "from sklearn.impute import SimpleImputer\n",
    "import numpy as np\n",
    "\n",
    "data=pd.read_csv(\"D:\\Programs & Sketchs\\DATASET\\ML_Lab.csv\")\n",
    "df=pd.DataFrame(data)\n",
    "print(df)\n",
    "a=df[[\"Subject 1\",\"Subject 2\",\"Subject 3\"]].values\n",
    "imputer= SimpleImputer(missing_values=np.NaN,strategy=\"mean\")\n",
    "c=imputer.fit(a[:1:3])\n",
    "\n",
    "from sklearn.preprocessing import OneHotEncoder\n",
    "OneHotEncoder=OneHotEncoder()\n",
    "a=OneHotEncoder.fit_transform(df.Branch.values.reshape(-1,1)).toarray()\n",
    "a"
   ]
  },
  {
   "cell_type": "code",
   "execution_count": 2,
   "id": "2f3e54c5",
   "metadata": {},
   "outputs": [
    {
     "name": "stdout",
     "output_type": "stream",
     "text": [
      "    Unnamed: 0  Roll No  Subject 1  Subject 2  Subject 3  Total Comment Branch\n",
      "0          NaN        1       46.0       43.0       43.0  132.0    Pass    Ece\n",
      "1          NaN        2       45.0       34.0       45.0  124.0    Pass    Avi\n",
      "2          NaN        3       46.0       32.0       46.0  124.0    Pass    Ece\n",
      "3          NaN        4        7.0       45.0       45.0   86.0    Fail    Ece\n",
      "4          NaN        5       46.0       37.0       43.0  126.0    Pass    Ece\n",
      "5          NaN        6       30.0        NaN        NaN  128.0    Pass    Avi\n",
      "6          NaN        7        NaN       30.0       41.0  114.0    Fail    Ece\n",
      "7          NaN        8       45.0       32.0       47.0  124.0    Pass    Avi\n",
      "8          NaN        0       34.0       36.0       42.0  112.0    Pass    Ece\n",
      "9          NaN       10       12.0       46.0        NaN   58.0    Fail    Avi\n",
      "10         NaN       11       45.0        NaN       23.0  102.0    Pass    Avi\n",
      "11         NaN       12        NaN        5.0       24.0   36.0    Fail    Ece\n",
      "12         NaN       13       48.0       45.0       25.0  118.0    Pass    Ece\n",
      "13         NaN       14       42.0       45.0       26.0    NaN    Fail    Ece\n",
      "14         NaN       15       41.0       44.0        NaN  112.0    Pass    Ece\n",
      "15         NaN       16        3.0       12.0        8.0   23.0    Fail    Avi\n",
      "16         NaN       17       34.0       32.0       20.0   96.0    Fail    Avi\n",
      "17         NaN       18       45.0        NaN       30.0    NaN    Fail    Ece\n",
      "18         NaN       19        NaN       41.0        NaN  128.0    Pass    Ece\n",
      "19         NaN       20       47.0       32.0       32.0  111.0    Pass    Ece\n"
     ]
    },
    {
     "data": {
      "text/plain": [
       "array([ 8.,  7.,  8.,  1.,  8.,  3., 11.,  7.,  4.,  2.,  7., 11., 10.,\n",
       "        6.,  5.,  0.,  4.,  7., 11.,  9.])"
      ]
     },
     "execution_count": 2,
     "metadata": {},
     "output_type": "execute_result"
    }
   ],
   "source": [
    "import pandas as pd\n",
    "from sklearn.impute import SimpleImputer\n",
    "import numpy as np\n",
    "data=pd.read_csv(\"D:\\Programs & Sketchs\\DATASET\\ML_Lab.csv\")\n",
    "df=pd.DataFrame(data)\n",
    "print(df)\n",
    "b=df[[\"Comment\"]].values\n",
    "\n",
    "from sklearn.preprocessing import LabelEncoder\n",
    "labelencoder_a=LabelEncoder()\n",
    "a[:,0]=labelencoder_a.fit_transform(a[:,0])\n",
    "a[:,0]"
   ]
  },
  {
   "cell_type": "code",
   "execution_count": 3,
   "id": "9dcd22a3",
   "metadata": {},
   "outputs": [
    {
     "name": "stdout",
     "output_type": "stream",
     "text": [
      "    Unnamed: 0  Roll No  Subject 1  Subject 2  Subject 3  Total Comment Branch\n",
      "0          NaN        1       46.0       43.0       43.0  132.0    Pass    Ece\n",
      "1          NaN        2       45.0       34.0       45.0  124.0    Pass    Avi\n",
      "2          NaN        3       46.0       32.0       46.0  124.0    Pass    Ece\n",
      "3          NaN        4        7.0       45.0       45.0   86.0    Fail    Ece\n",
      "4          NaN        5       46.0       37.0       43.0  126.0    Pass    Ece\n",
      "5          NaN        6       30.0        NaN        NaN  128.0    Pass    Avi\n",
      "6          NaN        7        NaN       30.0       41.0  114.0    Fail    Ece\n",
      "7          NaN        8       45.0       32.0       47.0  124.0    Pass    Avi\n",
      "8          NaN        0       34.0       36.0       42.0  112.0    Pass    Ece\n",
      "9          NaN       10       12.0       46.0        NaN   58.0    Fail    Avi\n",
      "10         NaN       11       45.0        NaN       23.0  102.0    Pass    Avi\n",
      "11         NaN       12        NaN        5.0       24.0   36.0    Fail    Ece\n",
      "12         NaN       13       48.0       45.0       25.0  118.0    Pass    Ece\n",
      "13         NaN       14       42.0       45.0       26.0    NaN    Fail    Ece\n",
      "14         NaN       15       41.0       44.0        NaN  112.0    Pass    Ece\n",
      "15         NaN       16        3.0       12.0        8.0   23.0    Fail    Avi\n",
      "16         NaN       17       34.0       32.0       20.0   96.0    Fail    Avi\n",
      "17         NaN       18       45.0        NaN       30.0    NaN    Fail    Ece\n",
      "18         NaN       19        NaN       41.0        NaN  128.0    Pass    Ece\n",
      "19         NaN       20       47.0       32.0       32.0  111.0    Pass    Ece\n"
     ]
    },
    {
     "data": {
      "text/plain": [
       "array([ 8.,  7.,  8.,  1.,  8.,  3., 11.,  7.,  4.,  2.,  7., 11., 10.,\n",
       "        6.,  5.,  0.,  4.,  7., 11.,  9.])"
      ]
     },
     "execution_count": 3,
     "metadata": {},
     "output_type": "execute_result"
    }
   ],
   "source": [
    "import pandas as pd\n",
    "from sklearn.impute import SimpleImputer\n",
    "import numpy as np\n",
    "\n",
    "data=pd.read_csv(\"D:\\Programs & Sketchs\\DATASET\\ML_Lab.csv\")\n",
    "df=pd.DataFrame(data)\n",
    "print(df)\n",
    "a=df[[\"Subject 1\",\"Subject 2\",\"Subject 3\"]].values\n",
    "b=df[[\"Comment\"]].values\n",
    "imputer= SimpleImputer(missing_values=np.NaN,strategy=\"mean\")\n",
    "c=imputer.fit(a[:1:3])\n",
    "\n",
    "from sklearn.preprocessing import LabelEncoder\n",
    "labelencoder_a=LabelEncoder()\n",
    "a[:,0]=labelencoder_a.fit_transform(a[:,0])\n",
    "a[:,0]\n"
   ]
  },
  {
   "cell_type": "code",
   "execution_count": 4,
   "id": "1ecb538c",
   "metadata": {},
   "outputs": [
    {
     "name": "stdout",
     "output_type": "stream",
     "text": [
      "[['Pass']\n",
      " ['Fail']\n",
      " ['Fail']\n",
      " ['Fail']\n",
      " ['Pass']\n",
      " ['Pass']\n",
      " ['Pass']\n",
      " ['Pass']\n",
      " ['Fail']\n",
      " ['Pass']\n",
      " ['Fail']\n",
      " ['Fail']\n",
      " ['Fail']\n",
      " ['Pass']\n",
      " ['Fail']\n",
      " ['Pass']]\n",
      "[['Pass']\n",
      " ['Pass']\n",
      " ['Pass']\n",
      " ['Pass']]\n"
     ]
    }
   ],
   "source": [
    "from sklearn.model_selection import train_test_split\n",
    "a_train, a_test, y_train, y_test= train_test_split(a,b,test_size=0.2, random_state=0)\n",
    "print(y_train)\n",
    "print(y_test)"
   ]
  },
  {
   "cell_type": "code",
   "execution_count": 5,
   "id": "943612d3",
   "metadata": {},
   "outputs": [
    {
     "name": "stdout",
     "output_type": "stream",
     "text": [
      "[[ 7. nan 23.]\n",
      " [ 7. nan 30.]\n",
      " [11. 30. 41.]\n",
      " [ 6. 45. 26.]\n",
      " [ 8. 37. 43.]\n",
      " [ 8. 32. 46.]\n",
      " [ 3. nan nan]\n",
      " [ 5. 44. nan]\n",
      " [ 2. 46. nan]\n",
      " [ 7. 32. 47.]\n",
      " [ 4. 32. 20.]\n",
      " [11.  5. 24.]\n",
      " [ 1. 45. 45.]\n",
      " [ 8. 43. 43.]\n",
      " [ 0. 12.  8.]\n",
      " [10. 45. 25.]]\n",
      "[[11. 41. nan]\n",
      " [ 7. 34. 45.]\n",
      " [ 9. 32. 32.]\n",
      " [ 4. 36. 42.]]\n"
     ]
    }
   ],
   "source": [
    "from sklearn.model_selection import train_test_split\n",
    "a_train, a_test, y_train, y_test= train_test_split(a,b,test_size=0.2, random_state=0)\n",
    "print(a_train)\n",
    "print(a_test)"
   ]
  },
  {
   "cell_type": "code",
   "execution_count": 6,
   "id": "b3063e4c",
   "metadata": {},
   "outputs": [
    {
     "data": {
      "text/plain": [
       "array([[ 0.26706666,         nan, -0.78350141],\n",
       "       [ 0.26706666,         nan, -0.19908642],\n",
       "       [ 1.48794281, -0.35552727,  0.71927998],\n",
       "       [-0.03815238,  0.83977993, -0.53303784],\n",
       "       [ 0.5722857 ,  0.20228276,  0.88625569],\n",
       "       [ 0.5722857 , -0.19615298,  1.13671925],\n",
       "       [-0.95380949,         nan,         nan],\n",
       "       [-0.34337142,  0.76009278,         nan],\n",
       "       [-1.25902853,  0.91946708,         nan],\n",
       "       [ 0.26706666, -0.19615298,  1.22020711],\n",
       "       [-0.64859045, -0.19615298, -1.03396497],\n",
       "       [ 1.48794281, -2.34770593, -0.70001355],\n",
       "       [-1.56424757,  0.83977993,  1.0532314 ],\n",
       "       [ 0.5722857 ,  0.68040564,  0.88625569],\n",
       "       [-1.8694666 , -1.78989591, -2.03581923],\n",
       "       [ 1.18272377,  0.83977993, -0.6165257 ]])"
      ]
     },
     "execution_count": 6,
     "metadata": {},
     "output_type": "execute_result"
    }
   ],
   "source": [
    "from sklearn.preprocessing import StandardScaler\n",
    "sc_a=StandardScaler()\n",
    "a_train=sc_a.fit_transform(a_train)\n",
    "a_train"
   ]
  },
  {
   "cell_type": "code",
   "execution_count": 8,
   "id": "322c0ccf",
   "metadata": {},
   "outputs": [
    {
     "ename": "ValueError",
     "evalue": "Input X contains NaN.\nLinearRegression does not accept missing values encoded as NaN natively. For supervised learning, you might want to consider sklearn.ensemble.HistGradientBoostingClassifier and Regressor which accept missing values encoded as NaNs natively. Alternatively, it is possible to preprocess the data, for instance by using an imputer transformer in a pipeline or drop samples with missing values. See https://scikit-learn.org/stable/modules/impute.html You can find a list of all estimators that handle NaN values at the following page: https://scikit-learn.org/stable/modules/impute.html#estimators-that-handle-nan-values",
     "output_type": "error",
     "traceback": [
      "\u001b[1;31m---------------------------------------------------------------------------\u001b[0m",
      "\u001b[1;31mValueError\u001b[0m                                Traceback (most recent call last)",
      "Cell \u001b[1;32mIn[8], line 4\u001b[0m\n\u001b[0;32m      2\u001b[0m linreg \u001b[38;5;241m=\u001b[39m LinearRegression()\n\u001b[0;32m      3\u001b[0m a_train, a_test, y_train, y_test\u001b[38;5;241m=\u001b[39m train_test_split(a,b,test_size\u001b[38;5;241m=\u001b[39m\u001b[38;5;241m0.2\u001b[39m, random_state\u001b[38;5;241m=\u001b[39m\u001b[38;5;241m0\u001b[39m)\n\u001b[1;32m----> 4\u001b[0m linreg\u001b[38;5;241m.\u001b[39mfit(a_train,y_train)\n\u001b[0;32m      5\u001b[0m \u001b[38;5;28mprint\u001b[39m(linreg\u001b[38;5;241m.\u001b[39mpredict(p))\n\u001b[0;32m      6\u001b[0m \u001b[38;5;28mprint\u001b[39m(linreg\u001b[38;5;241m.\u001b[39mintercept_)\n",
      "File \u001b[1;32mC:\\ProgramData\\anaconda3\\Lib\\site-packages\\sklearn\\base.py:1151\u001b[0m, in \u001b[0;36m_fit_context.<locals>.decorator.<locals>.wrapper\u001b[1;34m(estimator, *args, **kwargs)\u001b[0m\n\u001b[0;32m   1144\u001b[0m     estimator\u001b[38;5;241m.\u001b[39m_validate_params()\n\u001b[0;32m   1146\u001b[0m \u001b[38;5;28;01mwith\u001b[39;00m config_context(\n\u001b[0;32m   1147\u001b[0m     skip_parameter_validation\u001b[38;5;241m=\u001b[39m(\n\u001b[0;32m   1148\u001b[0m         prefer_skip_nested_validation \u001b[38;5;129;01mor\u001b[39;00m global_skip_validation\n\u001b[0;32m   1149\u001b[0m     )\n\u001b[0;32m   1150\u001b[0m ):\n\u001b[1;32m-> 1151\u001b[0m     \u001b[38;5;28;01mreturn\u001b[39;00m fit_method(estimator, \u001b[38;5;241m*\u001b[39margs, \u001b[38;5;241m*\u001b[39m\u001b[38;5;241m*\u001b[39mkwargs)\n",
      "File \u001b[1;32mC:\\ProgramData\\anaconda3\\Lib\\site-packages\\sklearn\\linear_model\\_base.py:678\u001b[0m, in \u001b[0;36mLinearRegression.fit\u001b[1;34m(self, X, y, sample_weight)\u001b[0m\n\u001b[0;32m    674\u001b[0m n_jobs_ \u001b[38;5;241m=\u001b[39m \u001b[38;5;28mself\u001b[39m\u001b[38;5;241m.\u001b[39mn_jobs\n\u001b[0;32m    676\u001b[0m accept_sparse \u001b[38;5;241m=\u001b[39m \u001b[38;5;28;01mFalse\u001b[39;00m \u001b[38;5;28;01mif\u001b[39;00m \u001b[38;5;28mself\u001b[39m\u001b[38;5;241m.\u001b[39mpositive \u001b[38;5;28;01melse\u001b[39;00m [\u001b[38;5;124m\"\u001b[39m\u001b[38;5;124mcsr\u001b[39m\u001b[38;5;124m\"\u001b[39m, \u001b[38;5;124m\"\u001b[39m\u001b[38;5;124mcsc\u001b[39m\u001b[38;5;124m\"\u001b[39m, \u001b[38;5;124m\"\u001b[39m\u001b[38;5;124mcoo\u001b[39m\u001b[38;5;124m\"\u001b[39m]\n\u001b[1;32m--> 678\u001b[0m X, y \u001b[38;5;241m=\u001b[39m \u001b[38;5;28mself\u001b[39m\u001b[38;5;241m.\u001b[39m_validate_data(\n\u001b[0;32m    679\u001b[0m     X, y, accept_sparse\u001b[38;5;241m=\u001b[39maccept_sparse, y_numeric\u001b[38;5;241m=\u001b[39m\u001b[38;5;28;01mTrue\u001b[39;00m, multi_output\u001b[38;5;241m=\u001b[39m\u001b[38;5;28;01mTrue\u001b[39;00m\n\u001b[0;32m    680\u001b[0m )\n\u001b[0;32m    682\u001b[0m has_sw \u001b[38;5;241m=\u001b[39m sample_weight \u001b[38;5;129;01mis\u001b[39;00m \u001b[38;5;129;01mnot\u001b[39;00m \u001b[38;5;28;01mNone\u001b[39;00m\n\u001b[0;32m    683\u001b[0m \u001b[38;5;28;01mif\u001b[39;00m has_sw:\n",
      "File \u001b[1;32mC:\\ProgramData\\anaconda3\\Lib\\site-packages\\sklearn\\base.py:621\u001b[0m, in \u001b[0;36mBaseEstimator._validate_data\u001b[1;34m(self, X, y, reset, validate_separately, cast_to_ndarray, **check_params)\u001b[0m\n\u001b[0;32m    619\u001b[0m         y \u001b[38;5;241m=\u001b[39m check_array(y, input_name\u001b[38;5;241m=\u001b[39m\u001b[38;5;124m\"\u001b[39m\u001b[38;5;124my\u001b[39m\u001b[38;5;124m\"\u001b[39m, \u001b[38;5;241m*\u001b[39m\u001b[38;5;241m*\u001b[39mcheck_y_params)\n\u001b[0;32m    620\u001b[0m     \u001b[38;5;28;01melse\u001b[39;00m:\n\u001b[1;32m--> 621\u001b[0m         X, y \u001b[38;5;241m=\u001b[39m check_X_y(X, y, \u001b[38;5;241m*\u001b[39m\u001b[38;5;241m*\u001b[39mcheck_params)\n\u001b[0;32m    622\u001b[0m     out \u001b[38;5;241m=\u001b[39m X, y\n\u001b[0;32m    624\u001b[0m \u001b[38;5;28;01mif\u001b[39;00m \u001b[38;5;129;01mnot\u001b[39;00m no_val_X \u001b[38;5;129;01mand\u001b[39;00m check_params\u001b[38;5;241m.\u001b[39mget(\u001b[38;5;124m\"\u001b[39m\u001b[38;5;124mensure_2d\u001b[39m\u001b[38;5;124m\"\u001b[39m, \u001b[38;5;28;01mTrue\u001b[39;00m):\n",
      "File \u001b[1;32mC:\\ProgramData\\anaconda3\\Lib\\site-packages\\sklearn\\utils\\validation.py:1147\u001b[0m, in \u001b[0;36mcheck_X_y\u001b[1;34m(X, y, accept_sparse, accept_large_sparse, dtype, order, copy, force_all_finite, ensure_2d, allow_nd, multi_output, ensure_min_samples, ensure_min_features, y_numeric, estimator)\u001b[0m\n\u001b[0;32m   1142\u001b[0m         estimator_name \u001b[38;5;241m=\u001b[39m _check_estimator_name(estimator)\n\u001b[0;32m   1143\u001b[0m     \u001b[38;5;28;01mraise\u001b[39;00m \u001b[38;5;167;01mValueError\u001b[39;00m(\n\u001b[0;32m   1144\u001b[0m         \u001b[38;5;124mf\u001b[39m\u001b[38;5;124m\"\u001b[39m\u001b[38;5;132;01m{\u001b[39;00mestimator_name\u001b[38;5;132;01m}\u001b[39;00m\u001b[38;5;124m requires y to be passed, but the target y is None\u001b[39m\u001b[38;5;124m\"\u001b[39m\n\u001b[0;32m   1145\u001b[0m     )\n\u001b[1;32m-> 1147\u001b[0m X \u001b[38;5;241m=\u001b[39m check_array(\n\u001b[0;32m   1148\u001b[0m     X,\n\u001b[0;32m   1149\u001b[0m     accept_sparse\u001b[38;5;241m=\u001b[39maccept_sparse,\n\u001b[0;32m   1150\u001b[0m     accept_large_sparse\u001b[38;5;241m=\u001b[39maccept_large_sparse,\n\u001b[0;32m   1151\u001b[0m     dtype\u001b[38;5;241m=\u001b[39mdtype,\n\u001b[0;32m   1152\u001b[0m     order\u001b[38;5;241m=\u001b[39morder,\n\u001b[0;32m   1153\u001b[0m     copy\u001b[38;5;241m=\u001b[39mcopy,\n\u001b[0;32m   1154\u001b[0m     force_all_finite\u001b[38;5;241m=\u001b[39mforce_all_finite,\n\u001b[0;32m   1155\u001b[0m     ensure_2d\u001b[38;5;241m=\u001b[39mensure_2d,\n\u001b[0;32m   1156\u001b[0m     allow_nd\u001b[38;5;241m=\u001b[39mallow_nd,\n\u001b[0;32m   1157\u001b[0m     ensure_min_samples\u001b[38;5;241m=\u001b[39mensure_min_samples,\n\u001b[0;32m   1158\u001b[0m     ensure_min_features\u001b[38;5;241m=\u001b[39mensure_min_features,\n\u001b[0;32m   1159\u001b[0m     estimator\u001b[38;5;241m=\u001b[39mestimator,\n\u001b[0;32m   1160\u001b[0m     input_name\u001b[38;5;241m=\u001b[39m\u001b[38;5;124m\"\u001b[39m\u001b[38;5;124mX\u001b[39m\u001b[38;5;124m\"\u001b[39m,\n\u001b[0;32m   1161\u001b[0m )\n\u001b[0;32m   1163\u001b[0m y \u001b[38;5;241m=\u001b[39m _check_y(y, multi_output\u001b[38;5;241m=\u001b[39mmulti_output, y_numeric\u001b[38;5;241m=\u001b[39my_numeric, estimator\u001b[38;5;241m=\u001b[39mestimator)\n\u001b[0;32m   1165\u001b[0m check_consistent_length(X, y)\n",
      "File \u001b[1;32mC:\\ProgramData\\anaconda3\\Lib\\site-packages\\sklearn\\utils\\validation.py:959\u001b[0m, in \u001b[0;36mcheck_array\u001b[1;34m(array, accept_sparse, accept_large_sparse, dtype, order, copy, force_all_finite, ensure_2d, allow_nd, ensure_min_samples, ensure_min_features, estimator, input_name)\u001b[0m\n\u001b[0;32m    953\u001b[0m         \u001b[38;5;28;01mraise\u001b[39;00m \u001b[38;5;167;01mValueError\u001b[39;00m(\n\u001b[0;32m    954\u001b[0m             \u001b[38;5;124m\"\u001b[39m\u001b[38;5;124mFound array with dim \u001b[39m\u001b[38;5;132;01m%d\u001b[39;00m\u001b[38;5;124m. \u001b[39m\u001b[38;5;132;01m%s\u001b[39;00m\u001b[38;5;124m expected <= 2.\u001b[39m\u001b[38;5;124m\"\u001b[39m\n\u001b[0;32m    955\u001b[0m             \u001b[38;5;241m%\u001b[39m (array\u001b[38;5;241m.\u001b[39mndim, estimator_name)\n\u001b[0;32m    956\u001b[0m         )\n\u001b[0;32m    958\u001b[0m     \u001b[38;5;28;01mif\u001b[39;00m force_all_finite:\n\u001b[1;32m--> 959\u001b[0m         _assert_all_finite(\n\u001b[0;32m    960\u001b[0m             array,\n\u001b[0;32m    961\u001b[0m             input_name\u001b[38;5;241m=\u001b[39minput_name,\n\u001b[0;32m    962\u001b[0m             estimator_name\u001b[38;5;241m=\u001b[39mestimator_name,\n\u001b[0;32m    963\u001b[0m             allow_nan\u001b[38;5;241m=\u001b[39mforce_all_finite \u001b[38;5;241m==\u001b[39m \u001b[38;5;124m\"\u001b[39m\u001b[38;5;124mallow-nan\u001b[39m\u001b[38;5;124m\"\u001b[39m,\n\u001b[0;32m    964\u001b[0m         )\n\u001b[0;32m    966\u001b[0m \u001b[38;5;28;01mif\u001b[39;00m ensure_min_samples \u001b[38;5;241m>\u001b[39m \u001b[38;5;241m0\u001b[39m:\n\u001b[0;32m    967\u001b[0m     n_samples \u001b[38;5;241m=\u001b[39m _num_samples(array)\n",
      "File \u001b[1;32mC:\\ProgramData\\anaconda3\\Lib\\site-packages\\sklearn\\utils\\validation.py:124\u001b[0m, in \u001b[0;36m_assert_all_finite\u001b[1;34m(X, allow_nan, msg_dtype, estimator_name, input_name)\u001b[0m\n\u001b[0;32m    121\u001b[0m \u001b[38;5;28;01mif\u001b[39;00m first_pass_isfinite:\n\u001b[0;32m    122\u001b[0m     \u001b[38;5;28;01mreturn\u001b[39;00m\n\u001b[1;32m--> 124\u001b[0m _assert_all_finite_element_wise(\n\u001b[0;32m    125\u001b[0m     X,\n\u001b[0;32m    126\u001b[0m     xp\u001b[38;5;241m=\u001b[39mxp,\n\u001b[0;32m    127\u001b[0m     allow_nan\u001b[38;5;241m=\u001b[39mallow_nan,\n\u001b[0;32m    128\u001b[0m     msg_dtype\u001b[38;5;241m=\u001b[39mmsg_dtype,\n\u001b[0;32m    129\u001b[0m     estimator_name\u001b[38;5;241m=\u001b[39mestimator_name,\n\u001b[0;32m    130\u001b[0m     input_name\u001b[38;5;241m=\u001b[39minput_name,\n\u001b[0;32m    131\u001b[0m )\n",
      "File \u001b[1;32mC:\\ProgramData\\anaconda3\\Lib\\site-packages\\sklearn\\utils\\validation.py:173\u001b[0m, in \u001b[0;36m_assert_all_finite_element_wise\u001b[1;34m(X, xp, allow_nan, msg_dtype, estimator_name, input_name)\u001b[0m\n\u001b[0;32m    156\u001b[0m \u001b[38;5;28;01mif\u001b[39;00m estimator_name \u001b[38;5;129;01mand\u001b[39;00m input_name \u001b[38;5;241m==\u001b[39m \u001b[38;5;124m\"\u001b[39m\u001b[38;5;124mX\u001b[39m\u001b[38;5;124m\"\u001b[39m \u001b[38;5;129;01mand\u001b[39;00m has_nan_error:\n\u001b[0;32m    157\u001b[0m     \u001b[38;5;66;03m# Improve the error message on how to handle missing values in\u001b[39;00m\n\u001b[0;32m    158\u001b[0m     \u001b[38;5;66;03m# scikit-learn.\u001b[39;00m\n\u001b[0;32m    159\u001b[0m     msg_err \u001b[38;5;241m+\u001b[39m\u001b[38;5;241m=\u001b[39m (\n\u001b[0;32m    160\u001b[0m         \u001b[38;5;124mf\u001b[39m\u001b[38;5;124m\"\u001b[39m\u001b[38;5;130;01m\\n\u001b[39;00m\u001b[38;5;132;01m{\u001b[39;00mestimator_name\u001b[38;5;132;01m}\u001b[39;00m\u001b[38;5;124m does not accept missing values\u001b[39m\u001b[38;5;124m\"\u001b[39m\n\u001b[0;32m    161\u001b[0m         \u001b[38;5;124m\"\u001b[39m\u001b[38;5;124m encoded as NaN natively. For supervised learning, you might want\u001b[39m\u001b[38;5;124m\"\u001b[39m\n\u001b[1;32m   (...)\u001b[0m\n\u001b[0;32m    171\u001b[0m         \u001b[38;5;124m\"\u001b[39m\u001b[38;5;124m#estimators-that-handle-nan-values\u001b[39m\u001b[38;5;124m\"\u001b[39m\n\u001b[0;32m    172\u001b[0m     )\n\u001b[1;32m--> 173\u001b[0m \u001b[38;5;28;01mraise\u001b[39;00m \u001b[38;5;167;01mValueError\u001b[39;00m(msg_err)\n",
      "\u001b[1;31mValueError\u001b[0m: Input X contains NaN.\nLinearRegression does not accept missing values encoded as NaN natively. For supervised learning, you might want to consider sklearn.ensemble.HistGradientBoostingClassifier and Regressor which accept missing values encoded as NaNs natively. Alternatively, it is possible to preprocess the data, for instance by using an imputer transformer in a pipeline or drop samples with missing values. See https://scikit-learn.org/stable/modules/impute.html You can find a list of all estimators that handle NaN values at the following page: https://scikit-learn.org/stable/modules/impute.html#estimators-that-handle-nan-values"
     ]
    }
   ],
   "source": [
    "from sklearn.linear_model import LinearRegression\n",
    "linreg = LinearRegression()\n",
    "a_train, a_test, y_train, y_test= train_test_split(a,b,test_size=0.2, random_state=0)\n",
    "linreg.fit(a_train,y_train)\n",
    "print(linreg.predict(p))\n",
    "print(linreg.intercept_)\n",
    "print(linreg.coef_)"
   ]
  },
  {
   "cell_type": "code",
   "execution_count": null,
   "id": "191b837f",
   "metadata": {},
   "outputs": [],
   "source": []
  }
 ],
 "metadata": {
  "kernelspec": {
   "display_name": "Python 3 (ipykernel)",
   "language": "python",
   "name": "python3"
  },
  "language_info": {
   "codemirror_mode": {
    "name": "ipython",
    "version": 3
   },
   "file_extension": ".py",
   "mimetype": "text/x-python",
   "name": "python",
   "nbconvert_exporter": "python",
   "pygments_lexer": "ipython3",
   "version": "3.11.5"
  }
 },
 "nbformat": 4,
 "nbformat_minor": 5
}
